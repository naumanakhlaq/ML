{
 "cells": [
  {
   "cell_type": "code",
   "execution_count": 2,
   "metadata": {
    "collapsed": true
   },
   "outputs": [],
   "source": [
    "import numpy as np\n",
    "import os\n",
    "import pandas as pd\n",
    "\n",
    "from sklearn.model_selection import train_test_split, cross_val_score\n",
    "from sklearn.linear_model import LogisticRegression\n",
    "from sklearn.tree import DecisionTreeClassifier\n",
    "from sklearn.neighbors import KNeighborsClassifier\n",
    "from sklearn.discriminant_analysis import LinearDiscriminantAnalysis\n",
    "from sklearn.naive_bayes import GaussianNB"
   ]
  },
  {
   "cell_type": "code",
   "execution_count": 39,
   "metadata": {},
   "outputs": [],
   "source": [
    "# you don't need to unzip the data - pandas can still recognise it\n",
    "trainp = './Kaggle/training.csv.zip'\n",
    "testp = './Kaggle/test.csv.zip'\n",
    "\n",
    "traindataset = pd.read_csv(trainp)\n",
    "testdataset = pd.read_csv(testp)\n",
    "\n",
    "features = traindataset.drop(columns=['signal', 'min_ANNmuon', 'mass', 'production'])\n",
    "labels = traindataset['signal']"
   ]
  },
  {
   "cell_type": "code",
   "execution_count": 27,
   "metadata": {},
   "outputs": [
    {
     "name": "stdout",
     "output_type": "stream",
     "text": [
      "Accuracy = 61.834% +/- 0.064\n"
     ]
    }
   ],
   "source": [
    "gnb = LogisticRegression()\n",
    "model = gnb.fit(features, labels)  \n",
    "\n",
    "# you don't need to split up into train/test sets because\n",
    "# cross-validation does it for you\n",
    "scores = cross_val_score(gnb, features, labels, scoring='accuracy', cv = 5)\n",
    "\n",
    "print('Accuracy = {}% +/- {}'.format(round(100*np.mean(scores), 3), round(100*np.std(scores), 3)))"
   ]
  },
  {
   "cell_type": "markdown",
   "metadata": {},
   "source": [
    "### Try all the models"
   ]
  },
  {
   "cell_type": "code",
   "execution_count": 31,
   "metadata": {},
   "outputs": [
    {
     "name": "stdout",
     "output_type": "stream",
     "text": [
      "LogisticRegression: Accuracy = 61.826% +/- 0.075\n",
      "DecisionTreeClassifier: Accuracy = 61.794% +/- 0.061\n",
      "KNeighborsClassifier: Accuracy = 61.824% +/- 0.073\n"
     ]
    },
    {
     "name": "stderr",
     "output_type": "stream",
     "text": [
      "/usr/local/lib/python3.6/site-packages/sklearn/discriminant_analysis.py:388: UserWarning: Variables are collinear.\n",
      "  warnings.warn(\"Variables are collinear.\")\n"
     ]
    },
    {
     "name": "stdout",
     "output_type": "stream",
     "text": [
      "LinearDiscriminantAnalysis: Accuracy = 61.817% +/- 0.079\n",
      "GaussianNB: Accuracy = 61.848% +/- 0.086\n"
     ]
    }
   ],
   "source": [
    "models = [LogisticRegression(), DecisionTreeClassifier(), KNeighborsClassifier(),\n",
    "          LinearDiscriminantAnalysis(), GaussianNB()]\n",
    "\n",
    "for m in models:\n",
    "    model = m.fit(features, labels)\n",
    "    scores = cross_val_score(gnb, features, labels, scoring='accuracy', cv = 5)\n",
    "    print('{}: Accuracy = {}% +/- {}'.format(m.__class__.__name__, \n",
    "                                             round(100*np.mean(scores), 3),\n",
    "                                             round(100*np.std(scores), 3)))"
   ]
  },
  {
   "cell_type": "markdown",
   "metadata": {},
   "source": [
    "#### you will probably need to do some hyper-parameter tuning to improve performance"
   ]
  },
  {
   "cell_type": "markdown",
   "metadata": {},
   "source": [
    "### Use the Gaussian Naive Bayes model to predict on the test set"
   ]
  },
  {
   "cell_type": "code",
   "execution_count": 45,
   "metadata": {},
   "outputs": [
    {
     "data": {
      "text/plain": [
       "array([0.71196485, 0.50571252, 0.29329722, ..., 0.5780373 , 0.40262902,\n",
       "       0.37115184])"
      ]
     },
     "execution_count": 45,
     "metadata": {},
     "output_type": "execute_result"
    }
   ],
   "source": [
    "model = GaussianNB().fit(features, labels)\n",
    "# output probabilities not raw labels\n",
    "model.predict_proba(testdataset)[:, 0]"
   ]
  },
  {
   "cell_type": "code",
   "execution_count": null,
   "metadata": {
    "collapsed": true
   },
   "outputs": [],
   "source": []
  }
 ],
 "metadata": {
  "kernelspec": {
   "display_name": "Python 3",
   "language": "python",
   "name": "python3"
  },
  "language_info": {
   "codemirror_mode": {
    "name": "ipython",
    "version": 3
   },
   "file_extension": ".py",
   "mimetype": "text/x-python",
   "name": "python",
   "nbconvert_exporter": "python",
   "pygments_lexer": "ipython3",
   "version": "3.6.4"
  }
 },
 "nbformat": 4,
 "nbformat_minor": 2
}
